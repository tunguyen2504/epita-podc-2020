{
 "cells": [
  {
   "cell_type": "code",
   "execution_count": 111,
   "metadata": {},
   "outputs": [],
   "source": [
    "class Reader:\n",
    "    def __init__(self, input_file):\n",
    "        file = open(input_file, \"r\");\n",
    "        lines = file.readlines();\n",
    "        i = 0;\n",
    "        new_text = '';\n",
    "        for line in lines:\n",
    "            new_text += str(i) + ' ' + line;\n",
    "            i += 1;\n",
    "        file.close()\n",
    "        portrait_list = '';\n",
    "        landscape_list = '';\n",
    "        for line in new_text.splitlines():\n",
    "            pType = line.split(' ')[1];\n",
    "            if (pType == 'P'):\n",
    "                portrait_list += line + '\\n';\n",
    "            elif (pType == 'L'):\n",
    "                landscape_list += line + '\\n';\n",
    "        full_list = landscape_list + portrait_list;\n",
    "        print(full_list);\n",
    "        output_file = input_file + \"_reorder.txt\";\n",
    "        new_file = open(output_file, \"w\");\n",
    "        new_file.write(full_list);\n",
    "        new_file.close();\n",
    "#         print(landscape)\n",
    "#         print(outtext)\n",
    "# outfile = open(\"3_2000.txt\",\"w\")\n",
    "# outfile.writelines(outtext)\n",
    "# outfile.close()"
   ]
  },
  {
   "cell_type": "code",
   "execution_count": 1,
   "metadata": {},
   "outputs": [],
   "source": [
    "import argparse\n",
    "def main():\n",
    "    parser = argparse.ArgumentParser\n",
    "    parser.add_argument(\"input\", type=str)\n",
    "\n",
    "    args = parser.parse_args()\n",
    "\n",
    "    read = Reader(args.input)\n",
    "    \n",
    "# read = Reader(\"../10_computable_moments.txt\")"
   ]
  },
  {
   "cell_type": "code",
   "execution_count": null,
   "metadata": {},
   "outputs": [],
   "source": []
  },
  {
   "cell_type": "code",
   "execution_count": null,
   "metadata": {},
   "outputs": [],
   "source": []
  }
 ],
 "metadata": {
  "kernelspec": {
   "display_name": "Python 3",
   "language": "python",
   "name": "python3"
  },
  "language_info": {
   "codemirror_mode": {
    "name": "ipython",
    "version": 3
   },
   "file_extension": ".py",
   "mimetype": "text/x-python",
   "name": "python",
   "nbconvert_exporter": "python",
   "pygments_lexer": "ipython3",
   "version": "3.6.4"
  }
 },
 "nbformat": 4,
 "nbformat_minor": 2
}
